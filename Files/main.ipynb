{
 "cells": [
  {
   "cell_type": "markdown",
   "metadata": {},
   "source": [
    "## So basically this whole file will contain 100 basic to advanced questions based on python programming"
   ]
  },
  {
   "cell_type": "code",
   "execution_count": 2,
   "metadata": {},
   "outputs": [
    {
     "name": "stdout",
     "output_type": "stream",
     "text": [
      "Helloworld\n"
     ]
    }
   ],
   "source": [
    "#1. Write a Python Program to print Helloworld\n",
    "print(\"Helloworld\")"
   ]
  },
  {
   "cell_type": "code",
   "execution_count": 3,
   "metadata": {},
   "outputs": [
    {
     "name": "stdout",
     "output_type": "stream",
     "text": [
      "Sum of num1 and num2 is 30.0\n",
      "Division of div1 and div2 is 5.0\n"
     ]
    }
   ],
   "source": [
    "#2. Write a program to do arithmetic operations addition and division\n",
    "num1 = float(input(\"Enter first number for addition\"))\n",
    "num2 = float(input(\"Enter second number for addition\"))\n",
    "sum = num1 + num2\n",
    "print(\"Sum of num1 and num2 is\", sum)\n",
    "\n",
    "# For divison\n",
    "dig1 = float(input(\"Enter first number for division\"))\n",
    "dig2 = float(input(\"Enter second number for division\"))\n",
    "div = dig1 / dig2\n",
    "print(\"Division of div1 and div2 is\", div)"
   ]
  },
  {
   "cell_type": "code",
   "execution_count": 1,
   "metadata": {},
   "outputs": [
    {
     "name": "stdout",
     "output_type": "stream",
     "text": [
      "Area of a triangle is 100.0\n"
     ]
    }
   ],
   "source": [
    "#3. Write a program to find the area of a triangle\n",
    "#Formula 1/2 * b * h\n",
    "base = float(input(\"Enter the base:\"))\n",
    "height = float(input(\"Enter the height:\"))\n",
    "area = 0.5* base * height\n",
    "print(f\"Area of a triangle is {area}\")"
   ]
  },
  {
   "cell_type": "code",
   "execution_count": 2,
   "metadata": {},
   "outputs": [
    {
     "name": "stdout",
     "output_type": "stream",
     "text": [
      "Before swapping values are 10.0 20.0\n",
      "Swapping now\n",
      "After swapping values are 20.0 10.0\n"
     ]
    }
   ],
   "source": [
    "#4. Write a program to swap two variables\n",
    "a = float(input(\"Enter value for a\"))\n",
    "b = float(input(\"Enter value for b\"))\n",
    "print(f\"Before swapping values are {a} {b}\")\n",
    "print(\"Swapping now\")\n",
    "temp = a\n",
    "a= b\n",
    "b= temp\n",
    "print(f\"After swapping values are {a} {b}\")\n"
   ]
  },
  {
   "cell_type": "code",
   "execution_count": 5,
   "metadata": {},
   "outputs": [
    {
     "name": "stdout",
     "output_type": "stream",
     "text": [
      "Positive number\n"
     ]
    }
   ],
   "source": [
    "#5. Write a program to check if a number is positive, negative or zero \n",
    "num = float(input(\"Enter a number\"))\n",
    "if num > 0:\n",
    "    print(\"Positive number\")\n",
    "elif num == 0:\n",
    "    print(\"Number is zero\")\n",
    "else:\n",
    "    print(\"Negative number\")\n",
    "    "
   ]
  },
  {
   "cell_type": "code",
   "execution_count": 6,
   "metadata": {},
   "outputs": [
    {
     "name": "stdout",
     "output_type": "stream",
     "text": [
      "10.0 20.0\n",
      "Swapping part\n",
      "After swapping\n",
      "20.0\n",
      "10.0\n"
     ]
    }
   ],
   "source": [
    "#6. Write a program to swap two variables without using a temporary variable\n",
    "a = float(input(\"Enter first number\"))\n",
    "b = float(input(\"Enter second number\"))\n",
    "print(a, b)\n",
    "print(\"Swapping part\")\n",
    "a,b = b,a\n",
    "print(\"After swapping\")\n",
    "print(a)\n",
    "print(b)"
   ]
  },
  {
   "cell_type": "code",
   "execution_count": 8,
   "metadata": {},
   "outputs": [
    {
     "name": "stdout",
     "output_type": "stream",
     "text": [
      "Number is even\n"
     ]
    }
   ],
   "source": [
    "#7. Write a program to check whether a number is even or odd\n",
    "num = float(input(\"Enter a number\"))\n",
    "if num%2 ==0:\n",
    "    print(\"Number is even\")\n",
    "else:\n",
    "    print(\"Number is odd\")"
   ]
  },
  {
   "cell_type": "code",
   "execution_count": 9,
   "metadata": {},
   "outputs": [
    {
     "name": "stdout",
     "output_type": "stream",
     "text": [
      "     June 2002\n",
      "Mo Tu We Th Fr Sa Su\n",
      "                1  2\n",
      " 3  4  5  6  7  8  9\n",
      "10 11 12 13 14 15 16\n",
      "17 18 19 20 21 22 23\n",
      "24 25 26 27 28 29 30\n",
      "\n"
     ]
    }
   ],
   "source": [
    "#8. Write a program to print a calendar\n",
    "import calendar\n",
    "year = int(input(\"Enter a year\"))\n",
    "month = int(input(\"Enter month\"))\n",
    "cal = calendar.month(year, month)\n",
    "print(cal)"
   ]
  },
  {
   "cell_type": "code",
   "execution_count": 11,
   "metadata": {},
   "outputs": [
    {
     "name": "stdout",
     "output_type": "stream",
     "text": [
      "100.0 kilometers is equal to 62.137100000000004 miles\n"
     ]
    }
   ],
   "source": [
    "#9. Write a program to convert kilometers into miles\n",
    "#Formula: 1 kilometer = 0.621371 miles\n",
    "kilometer = float(input(\"Enter the kilometer\"))\n",
    "conv_fac = kilometer * 0.621371\n",
    "print(f\"{kilometer} kilometers is equal to {conv_fac} miles\")"
   ]
  },
  {
   "cell_type": "code",
   "execution_count": 13,
   "metadata": {},
   "outputs": [
    {
     "name": "stdout",
     "output_type": "stream",
     "text": [
      "37.0 is temperature in 98.6\n"
     ]
    }
   ],
   "source": [
    "#10. Write a proagram to convert Celcius to Fahrenheit\n",
    "#Formula: F = (C * 9/5) + 32\n",
    "celcius = float(input(\"Enter temperature in Celcius: \"))\n",
    "fahrenhiet = (celcius * 9/5)+ 32\n",
    "print(f\"{celcius} is temperature in {fahrenhiet}\")"
   ]
  },
  {
   "cell_type": "code",
   "execution_count": 7,
   "metadata": {},
   "outputs": [
    {
     "name": "stdout",
     "output_type": "stream",
     "text": [
      "Random number: 19\n"
     ]
    }
   ],
   "source": [
    "#11. Write a program to generate a random number\n",
    "import random\n",
    "print(f\"Random number: {random.randint(1,20)}\")"
   ]
  },
  {
   "cell_type": "code",
   "execution_count": 9,
   "metadata": {},
   "outputs": [
    {
     "name": "stdout",
     "output_type": "stream",
     "text": [
      "10 * 1 = 10\n",
      "10 * 2 = 20\n",
      "10 * 3 = 30\n",
      "10 * 4 = 40\n",
      "10 * 5 = 50\n",
      "10 * 6 = 60\n",
      "10 * 7 = 70\n",
      "10 * 8 = 80\n",
      "10 * 9 = 90\n",
      "10 * 10 = 100\n"
     ]
    }
   ],
   "source": [
    "#12. Write a program to print a multiplication table\n",
    "num = int(input(\"Enter the number\"))\n",
    "for i in range(1,11):\n",
    "    print(f\"{num} * {i} = {num*i}\")"
   ]
  },
  {
   "cell_type": "code",
   "execution_count": null,
   "metadata": {},
   "outputs": [
    {
     "name": "stdout",
     "output_type": "stream",
     "text": [
      "The ASCII value of V is 86\n"
     ]
    }
   ],
   "source": [
    "#13. Write a python program to find the ASCII value of a character\n",
    "# ASCII, or American Standard Code for Information Interchange, is a character encoding standard that uses numeric values to represent characters. Each ASCII character is\n",
    "# assigned a unique 7-bit or 8-bit binary number, allowing computers to exchange information and display text in a consistent way. The ASCII values range from 0 to 127 (for 7-bit ASCII)\n",
    "# or 0 to 255 (for 8-bit ASCII), with each value corresponding to a specific character, such as\n",
    "# letters, digits, punctuation marks, and control characters.\n",
    "\n",
    "char = str(input(\"Enter the character\"))\n",
    "print(\"The ASCII value of \" + char + \" is\", ord(char)) # check order"
   ]
  },
  {
   "cell_type": "code",
   "execution_count": null,
   "metadata": {},
   "outputs": [
    {
     "name": "stdout",
     "output_type": "stream",
     "text": [
      "Entered number is 2\n",
      "2, is a prime number\n"
     ]
    }
   ],
   "source": [
    "#14. Write a Python Program to Check Prime Number.\n",
    "# A prime number is a whole number that cannot be evenly divided by any other number except for 1 and itself. For example, 2, 3, 5, 7, 11, and 13\n",
    "# are prime numbers because they cannot be divided by any other positive integer except for 1 and their own value.\n",
    "\n",
    "num = int(input(\"Enter a number: \"))\n",
    "print(f\"Entered number is {num}\")\n",
    "#define a flag variable\n",
    "flag = False\n",
    "if num == 1:\n",
    "    print(f\"{num}, is not a prime number\")\n",
    "elif num >1:\n",
    "    #check for factors\n",
    "    for i in range(2, num):\n",
    "        if(num % i) == 0:\n",
    "            flag = True # set flag to true if factor is found \n",
    "            break\n",
    "    #Check if flag is true\n",
    "if flag:\n",
    "    print(f\"{num}, is not a prime number\")\n",
    "else:\n",
    "    print(f\"{num}, is a prime number\")\n",
    "\n"
   ]
  },
  {
   "cell_type": "code",
   "execution_count": 3,
   "metadata": {},
   "outputs": [
    {
     "name": "stdout",
     "output_type": "stream",
     "text": [
      "The factorial of 5 is 120\n"
     ]
    }
   ],
   "source": [
    "#15. Write a program to find the factorial of a number.\n",
    "num = int(input(\"Enter a number: \"))\n",
    "factorial = 1\n",
    "if num < 0:\n",
    "    print(\"Factorial does not exist for negative numbers.\")\n",
    "elif num == 0:\n",
    "    print(\"Factorial of 0 is 1.\")\n",
    "else:\n",
    "    for i in range(1, num + 1):\n",
    "        factorial *= i #to check the factorial\n",
    "    print(f\"The factorial of {num} is {factorial}\") \n"
   ]
  },
  {
   "cell_type": "code",
   "execution_count": 2,
   "metadata": {},
   "outputs": [
    {
     "name": "stdout",
     "output_type": "stream",
     "text": [
      "2016, A leap Year\n"
     ]
    }
   ],
   "source": [
    "#16. Write a program to check Leap Year\n",
    "year = int(input(\"Enter the year:\"))\n",
    "if(year %400 == 0) and (year %100 == 0):\n",
    "    print(f\"{year}, A leap Year\")\n",
    "elif (year % 4 == 0) and (year %100 != 0):\n",
    "    print(f\"{year}, A leap Year\")\n",
    "else:\n",
    "    print(f\"{year}, Not a leap year\")\n",
    "\n"
   ]
  },
  {
   "cell_type": "code",
   "execution_count": null,
   "metadata": {},
   "outputs": [
    {
     "name": "stdout",
     "output_type": "stream",
     "text": [
      "Sum of natural number upto 20 is: 210\n"
     ]
    }
   ],
   "source": [
    "#17. Write a Python Program to find the sum of natural number \n",
    "num = int(input(\"Enter the number\"))\n",
    "sum = 0 \n",
    "\n",
    "for i in range(1, num+1):\n",
    "    sum += i\n",
    "\n",
    "print(\"Sum of natural number upto\", num, \"is:\", sum)"
   ]
  },
  {
   "cell_type": "code",
   "execution_count": null,
   "metadata": {},
   "outputs": [
    {
     "name": "stdout",
     "output_type": "stream",
     "text": [
      "2\n",
      "3\n",
      "5\n",
      "7\n"
     ]
    }
   ],
   "source": [
    "#18. Write a python program to print all prime numbers in an interval of 1-10\n",
    "for num in range(1,11):\n",
    "    if num >1: # Prime numbers are greater than 1:\n",
    "        for i in range(2,num):\n",
    "            if(num % i) == 0:\n",
    "                break\n",
    "        else:\n",
    "            print(num)"
   ]
  },
  {
   "cell_type": "code",
   "execution_count": null,
   "metadata": {},
   "outputs": [
    {
     "name": "stdout",
     "output_type": "stream",
     "text": [
      "Select options\n",
      "1: Addition\n",
      "2: Subtraction\n",
      "3: Multiplication\n",
      "4: Division\n",
      "10.0 10.0 20.0\n",
      "Invalid Input\n",
      "Invalid Input\n",
      "30.0 20.0 10.0\n",
      "20.0 20.0 400.0\n",
      "Invalid Input\n",
      "100.0 5.0 20.0\n"
     ]
    }
   ],
   "source": [
    "#19. Write a Python program to make a simple calculator with 4 basic mathematical operations.\n",
    "\n",
    "#making Cases:\n",
    "print(\"Select options\")\n",
    "print(\"1: Addition\")\n",
    "print(\"2: Subtraction\")\n",
    "print(\"3: Multiplication\")\n",
    "print(\"4: Division\")\n",
    "\n",
    "#Now making functions for each cases:\n",
    "#For addition\n",
    "def add(x,y):\n",
    "    return x + y\n",
    "\n",
    "#For subtraction\n",
    "def subtract(x,y):\n",
    "   return x - y\n",
    "\n",
    "#For multiplication\n",
    "def multiply(x,y):\n",
    "    return x * y\n",
    "\n",
    "#For division\n",
    "def divide(x,y):\n",
    "    if y == 0: #Checking if y is zero\n",
    "        return \"Error! Division by zero is not allowed.\"\n",
    "    return x / y\n",
    "\n",
    "while True:\n",
    "    # Taking input from the user\n",
    "    choice = int(input(\"Enter your choice from 1 - 4\"))\n",
    "\n",
    "    #Checking choice if it is 1,2,3,4\n",
    "    if choice in (1,2,3,4):\n",
    "        try:\n",
    "            num1 = float(input(\"Enter first number: \"))\n",
    "            num2 = float(input(\"Enter second number: \"))\n",
    "        except ValueError:\n",
    "            print(\"Invalid input. Please enter a number.\")\n",
    "            continue \n",
    "\n",
    "        if choice == 1:\n",
    "            print(num1, num2, add(num1, num2))\n",
    "        \n",
    "        elif choice == 2:\n",
    "            print(num1, num2, subtract(num1, num2))\n",
    "\n",
    "        elif choice == 3:\n",
    "            print(num1, num2, multiply(num1, num2))\n",
    "\n",
    "        elif choice == 4:\n",
    "            print(num1, num2, divide(num1, num2))\n",
    "\n",
    "        nextCalculation = input(\"Do you want to continue? (yes/no): \") #Check if user wants to continue or not\n",
    "        if nextCalculation == \"no\":\n",
    "            break \n",
    "    else:\n",
    "        print(\"Invalid Input\")\n",
    "\n",
    "\n",
    "\n",
    "\n",
    "\n",
    "\n",
    "\n"
   ]
  },
  {
   "cell_type": "code",
   "execution_count": null,
   "metadata": {},
   "outputs": [
    {
     "name": "stdout",
     "output_type": "stream",
     "text": [
      "Decimal value of 10 is:\n",
      "0b1010 in binary\n",
      "0o12 in octal\n",
      "0xa in hexadecimal\n"
     ]
    }
   ],
   "source": [
    "#20. Write a program to convert decimal to binary, octal and hexadecimal.\n",
    "dec_num = int(input(\"Enter a decimal number: \"))\n",
    "print(\"Decimal value of\", dec_num, \"is:\")\n",
    "print(bin(dec_num), \"in binary\") #For binary\n",
    "print(oct(dec_num), \"in octal\") #For octal\n",
    "print(hex(dec_num), \"in hexadecimal\") #For hexadecimal"
   ]
  },
  {
   "cell_type": "code",
   "execution_count": 5,
   "metadata": {},
   "outputs": [
    {
     "name": "stdout",
     "output_type": "stream",
     "text": [
      "Sum of list is: 15\n"
     ]
    }
   ],
   "source": [
    "#21. Write a python program to find the sum of an array(list)\n",
    "my_arr = [1,2,3,4,5]\n",
    "x = sum(my_arr)\n",
    "print(\"Sum of list is:\", x)"
   ]
  },
  {
   "cell_type": "code",
   "execution_count": null,
   "metadata": {},
   "outputs": [],
   "source": []
  },
  {
   "cell_type": "code",
   "execution_count": null,
   "metadata": {},
   "outputs": [],
   "source": []
  }
 ],
 "metadata": {
  "kernelspec": {
   "display_name": "base",
   "language": "python",
   "name": "python3"
  },
  "language_info": {
   "codemirror_mode": {
    "name": "ipython",
    "version": 3
   },
   "file_extension": ".py",
   "mimetype": "text/x-python",
   "name": "python",
   "nbconvert_exporter": "python",
   "pygments_lexer": "ipython3",
   "version": "3.12.3"
  }
 },
 "nbformat": 4,
 "nbformat_minor": 2
}
