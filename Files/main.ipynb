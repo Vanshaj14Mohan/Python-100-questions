{
 "cells": [
  {
   "cell_type": "markdown",
   "metadata": {},
   "source": [
    "## So basically this whole file will contain 100 basic to advanced questions based on python programming"
   ]
  },
  {
   "cell_type": "code",
   "execution_count": 1,
   "metadata": {},
   "outputs": [
    {
     "name": "stdout",
     "output_type": "stream",
     "text": [
      "Helloworld\n"
     ]
    }
   ],
   "source": [
    "#1. Write a Python Program to print Helloworld\n",
    "print(\"Helloworld\")"
   ]
  },
  {
   "cell_type": "code",
   "execution_count": 3,
   "metadata": {},
   "outputs": [
    {
     "name": "stdout",
     "output_type": "stream",
     "text": [
      "Sum of num1 and num2 is 30.0\n",
      "Division of div1 and div2 is 5.0\n"
     ]
    }
   ],
   "source": [
    "#2. Write a program to do arithmetic operations addition and division\n",
    "num1 = float(input(\"Enter first number for addition\"))\n",
    "num2 = float(input(\"Enter second number for addition\"))\n",
    "sum = num1 + num2\n",
    "print(\"Sum of num1 and num2 is\", sum)\n",
    "\n",
    "# For divison\n",
    "dig1 = float(input(\"Enter first number for division\"))\n",
    "dig2 = float(input(\"Enter second number for division\"))\n",
    "div = dig1 / dig2\n",
    "print(\"Division of div1 and div2 is\", div)"
   ]
  },
  {
   "cell_type": "code",
   "execution_count": 1,
   "metadata": {},
   "outputs": [
    {
     "name": "stdout",
     "output_type": "stream",
     "text": [
      "Area of a triangle is 100.0\n"
     ]
    }
   ],
   "source": [
    "#3. Write a program to find the area of a triangle\n",
    "#Formula 1/2 * b * h\n",
    "base = float(input(\"Enter the base:\"))\n",
    "height = float(input(\"Enter the height:\"))\n",
    "area = 0.5* base * height\n",
    "print(f\"Area of a triangle is {area}\")"
   ]
  },
  {
   "cell_type": "code",
   "execution_count": 2,
   "metadata": {},
   "outputs": [
    {
     "name": "stdout",
     "output_type": "stream",
     "text": [
      "Before swapping values are 10.0 20.0\n",
      "Swapping now\n",
      "After swapping values are 20.0 10.0\n"
     ]
    }
   ],
   "source": [
    "#4. Write a program to swap two variables\n",
    "a = float(input(\"Enter value for a\"))\n",
    "b = float(input(\"Enter value for b\"))\n",
    "print(f\"Before swapping values are {a} {b}\")\n",
    "print(\"Swapping now\")\n",
    "temp = a\n",
    "a= b\n",
    "b= temp\n",
    "print(f\"After swapping values are {a} {b}\")\n"
   ]
  },
  {
   "cell_type": "code",
   "execution_count": 5,
   "metadata": {},
   "outputs": [
    {
     "name": "stdout",
     "output_type": "stream",
     "text": [
      "Positive number\n"
     ]
    }
   ],
   "source": [
    "#5. Write a program to check if a number is positive, negative or zero \n",
    "num = float(input(\"Enter a number\"))\n",
    "if num > 0:\n",
    "    print(\"Positive number\")\n",
    "elif num == 0:\n",
    "    print(\"Number is zero\")\n",
    "else:\n",
    "    print(\"Negative number\")\n",
    "    "
   ]
  },
  {
   "cell_type": "code",
   "execution_count": 6,
   "metadata": {},
   "outputs": [
    {
     "name": "stdout",
     "output_type": "stream",
     "text": [
      "10.0 20.0\n",
      "Swapping part\n",
      "After swapping\n",
      "20.0\n",
      "10.0\n"
     ]
    }
   ],
   "source": [
    "#6. Write a program to swap two variables without using a temporary variable\n",
    "a = float(input(\"Enter first number\"))\n",
    "b = float(input(\"Enter second number\"))\n",
    "print(a, b)\n",
    "print(\"Swapping part\")\n",
    "a,b = b,a\n",
    "print(\"After swapping\")\n",
    "print(a)\n",
    "print(b)"
   ]
  },
  {
   "cell_type": "code",
   "execution_count": 8,
   "metadata": {},
   "outputs": [
    {
     "name": "stdout",
     "output_type": "stream",
     "text": [
      "Number is even\n"
     ]
    }
   ],
   "source": [
    "#7. Write a program to check whether a number is even or odd\n",
    "num = float(input(\"Enter a number\"))\n",
    "if num%2 ==0:\n",
    "    print(\"Number is even\")\n",
    "else:\n",
    "    print(\"Number is odd\")"
   ]
  },
  {
   "cell_type": "code",
   "execution_count": 9,
   "metadata": {},
   "outputs": [
    {
     "name": "stdout",
     "output_type": "stream",
     "text": [
      "     June 2002\n",
      "Mo Tu We Th Fr Sa Su\n",
      "                1  2\n",
      " 3  4  5  6  7  8  9\n",
      "10 11 12 13 14 15 16\n",
      "17 18 19 20 21 22 23\n",
      "24 25 26 27 28 29 30\n",
      "\n"
     ]
    }
   ],
   "source": [
    "#8. Write a program to print a calendar\n",
    "import calendar\n",
    "year = int(input(\"Enter a year\"))\n",
    "month = int(input(\"Enter month\"))\n",
    "cal = calendar.month(year, month)\n",
    "print(cal)"
   ]
  },
  {
   "cell_type": "code",
   "execution_count": 11,
   "metadata": {},
   "outputs": [
    {
     "name": "stdout",
     "output_type": "stream",
     "text": [
      "100.0 kilometers is equal to 62.137100000000004 miles\n"
     ]
    }
   ],
   "source": [
    "#9. Write a program to convert kilometers into miles\n",
    "#Formula: 1 kilometer = 0.621371 miles\n",
    "kilometer = float(input(\"Enter the kilometer\"))\n",
    "conv_fac = kilometer * 0.621371\n",
    "print(f\"{kilometer} kilometers is equal to {conv_fac} miles\")"
   ]
  },
  {
   "cell_type": "code",
   "execution_count": 13,
   "metadata": {},
   "outputs": [
    {
     "name": "stdout",
     "output_type": "stream",
     "text": [
      "37.0 is temperature in 98.6\n"
     ]
    }
   ],
   "source": [
    "#10. Write a proagram to convert Celcius to Fahrenheit\n",
    "#Formula: F = (C * 9/5) + 32\n",
    "celcius = float(input(\"Enter temperature in Celcius: \"))\n",
    "fahrenhiet = (celcius * 9/5)+ 32\n",
    "print(f\"{celcius} is temperature in {fahrenhiet}\")"
   ]
  },
  {
   "cell_type": "code",
   "execution_count": 7,
   "metadata": {},
   "outputs": [
    {
     "name": "stdout",
     "output_type": "stream",
     "text": [
      "Random number: 19\n"
     ]
    }
   ],
   "source": [
    "#11. Write a program to generate a random number\n",
    "import random\n",
    "print(f\"Random number: {random.randint(1,20)}\")"
   ]
  },
  {
   "cell_type": "code",
   "execution_count": 9,
   "metadata": {},
   "outputs": [
    {
     "name": "stdout",
     "output_type": "stream",
     "text": [
      "10 * 1 = 10\n",
      "10 * 2 = 20\n",
      "10 * 3 = 30\n",
      "10 * 4 = 40\n",
      "10 * 5 = 50\n",
      "10 * 6 = 60\n",
      "10 * 7 = 70\n",
      "10 * 8 = 80\n",
      "10 * 9 = 90\n",
      "10 * 10 = 100\n"
     ]
    }
   ],
   "source": [
    "#12. Write a program to print a multiplication table\n",
    "num = int(input(\"Enter the number\"))\n",
    "\n",
    "for i in range(1,11):\n",
    "    print(f\"{num} * {i} = {num*i}\")"
   ]
  },
  {
   "cell_type": "code",
   "execution_count": null,
   "metadata": {},
   "outputs": [],
   "source": []
  }
 ],
 "metadata": {
  "kernelspec": {
   "display_name": "base",
   "language": "python",
   "name": "python3"
  },
  "language_info": {
   "codemirror_mode": {
    "name": "ipython",
    "version": 3
   },
   "file_extension": ".py",
   "mimetype": "text/x-python",
   "name": "python",
   "nbconvert_exporter": "python",
   "pygments_lexer": "ipython3",
   "version": "3.12.3"
  }
 },
 "nbformat": 4,
 "nbformat_minor": 2
}
