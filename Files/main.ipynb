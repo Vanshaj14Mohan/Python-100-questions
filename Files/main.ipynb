{
 "cells": [
  {
   "cell_type": "markdown",
   "metadata": {},
   "source": [
    "## So basically this whole file will contain 100 basic to advanced questions based on python programming"
   ]
  },
  {
   "cell_type": "code",
   "execution_count": 2,
   "metadata": {},
   "outputs": [
    {
     "name": "stdout",
     "output_type": "stream",
     "text": [
      "Helloworld\n"
     ]
    }
   ],
   "source": [
    "#1. Write a Python Program to print Helloworld\n",
    "print(\"Helloworld\")"
   ]
  },
  {
   "cell_type": "code",
   "execution_count": 3,
   "metadata": {},
   "outputs": [
    {
     "name": "stdout",
     "output_type": "stream",
     "text": [
      "Sum of num1 and num2 is 30.0\n",
      "Division of div1 and div2 is 5.0\n"
     ]
    }
   ],
   "source": [
    "#2. Write a program to do arithmetic operations addition and division\n",
    "num1 = float(input(\"Enter first number for addition\"))\n",
    "num2 = float(input(\"Enter second number for addition\"))\n",
    "sum = num1 + num2\n",
    "print(\"Sum of num1 and num2 is\", sum)\n",
    "\n",
    "# For divison\n",
    "dig1 = float(input(\"Enter first number for division\"))\n",
    "dig2 = float(input(\"Enter second number for division\"))\n",
    "div = dig1 / dig2\n",
    "print(\"Division of div1 and div2 is\", div)"
   ]
  },
  {
   "cell_type": "code",
   "execution_count": 1,
   "metadata": {},
   "outputs": [
    {
     "name": "stdout",
     "output_type": "stream",
     "text": [
      "Area of a triangle is 100.0\n"
     ]
    }
   ],
   "source": [
    "#3. Write a program to find the area of a triangle\n",
    "#Formula 1/2 * b * h\n",
    "base = float(input(\"Enter the base:\"))\n",
    "height = float(input(\"Enter the height:\"))\n",
    "area = 0.5* base * height\n",
    "print(f\"Area of a triangle is {area}\")"
   ]
  },
  {
   "cell_type": "code",
   "execution_count": 2,
   "metadata": {},
   "outputs": [
    {
     "name": "stdout",
     "output_type": "stream",
     "text": [
      "Before swapping values are 10.0 20.0\n",
      "Swapping now\n",
      "After swapping values are 20.0 10.0\n"
     ]
    }
   ],
   "source": [
    "#4. Write a program to swap two variables\n",
    "a = float(input(\"Enter value for a\"))\n",
    "b = float(input(\"Enter value for b\"))\n",
    "print(f\"Before swapping values are {a} {b}\")\n",
    "print(\"Swapping now\")\n",
    "temp = a\n",
    "a= b\n",
    "b= temp\n",
    "print(f\"After swapping values are {a} {b}\")\n"
   ]
  },
  {
   "cell_type": "code",
   "execution_count": 5,
   "metadata": {},
   "outputs": [
    {
     "name": "stdout",
     "output_type": "stream",
     "text": [
      "Positive number\n"
     ]
    }
   ],
   "source": [
    "#5. Write a program to check if a number is positive, negative or zero \n",
    "num = float(input(\"Enter a number\"))\n",
    "if num > 0:\n",
    "    print(\"Positive number\")\n",
    "elif num == 0:\n",
    "    print(\"Number is zero\")\n",
    "else:\n",
    "    print(\"Negative number\")\n",
    "    "
   ]
  },
  {
   "cell_type": "code",
   "execution_count": 6,
   "metadata": {},
   "outputs": [
    {
     "name": "stdout",
     "output_type": "stream",
     "text": [
      "10.0 20.0\n",
      "Swapping part\n",
      "After swapping\n",
      "20.0\n",
      "10.0\n"
     ]
    }
   ],
   "source": [
    "#6. Write a program to swap two variables without using a temporary variable\n",
    "a = float(input(\"Enter first number\"))\n",
    "b = float(input(\"Enter second number\"))\n",
    "print(a, b)\n",
    "print(\"Swapping part\")\n",
    "a,b = b,a\n",
    "print(\"After swapping\")\n",
    "print(a)\n",
    "print(b)"
   ]
  },
  {
   "cell_type": "code",
   "execution_count": 8,
   "metadata": {},
   "outputs": [
    {
     "name": "stdout",
     "output_type": "stream",
     "text": [
      "Number is even\n"
     ]
    }
   ],
   "source": [
    "#7. Write a program to check whether a number is even or odd\n",
    "num = float(input(\"Enter a number\"))\n",
    "if num%2 ==0:\n",
    "    print(\"Number is even\")\n",
    "else:\n",
    "    print(\"Number is odd\")"
   ]
  },
  {
   "cell_type": "code",
   "execution_count": 9,
   "metadata": {},
   "outputs": [
    {
     "name": "stdout",
     "output_type": "stream",
     "text": [
      "     June 2002\n",
      "Mo Tu We Th Fr Sa Su\n",
      "                1  2\n",
      " 3  4  5  6  7  8  9\n",
      "10 11 12 13 14 15 16\n",
      "17 18 19 20 21 22 23\n",
      "24 25 26 27 28 29 30\n",
      "\n"
     ]
    }
   ],
   "source": [
    "#8. Write a program to print a calendar\n",
    "import calendar\n",
    "year = int(input(\"Enter a year\"))\n",
    "month = int(input(\"Enter month\"))\n",
    "cal = calendar.month(year, month)\n",
    "print(cal)"
   ]
  },
  {
   "cell_type": "code",
   "execution_count": 11,
   "metadata": {},
   "outputs": [
    {
     "name": "stdout",
     "output_type": "stream",
     "text": [
      "100.0 kilometers is equal to 62.137100000000004 miles\n"
     ]
    }
   ],
   "source": [
    "#9. Write a program to convert kilometers into miles\n",
    "#Formula: 1 kilometer = 0.621371 miles\n",
    "kilometer = float(input(\"Enter the kilometer\"))\n",
    "conv_fac = kilometer * 0.621371\n",
    "print(f\"{kilometer} kilometers is equal to {conv_fac} miles\")"
   ]
  },
  {
   "cell_type": "code",
   "execution_count": 13,
   "metadata": {},
   "outputs": [
    {
     "name": "stdout",
     "output_type": "stream",
     "text": [
      "37.0 is temperature in 98.6\n"
     ]
    }
   ],
   "source": [
    "#10. Write a proagram to convert Celcius to Fahrenheit\n",
    "#Formula: F = (C * 9/5) + 32\n",
    "celcius = float(input(\"Enter temperature in Celcius: \"))\n",
    "fahrenhiet = (celcius * 9/5)+ 32\n",
    "print(f\"{celcius} is temperature in {fahrenhiet}\")"
   ]
  },
  {
   "cell_type": "code",
   "execution_count": 7,
   "metadata": {},
   "outputs": [
    {
     "name": "stdout",
     "output_type": "stream",
     "text": [
      "Random number: 19\n"
     ]
    }
   ],
   "source": [
    "#11. Write a program to generate a random number\n",
    "import random\n",
    "print(f\"Random number: {random.randint(1,20)}\")"
   ]
  },
  {
   "cell_type": "code",
   "execution_count": 9,
   "metadata": {},
   "outputs": [
    {
     "name": "stdout",
     "output_type": "stream",
     "text": [
      "10 * 1 = 10\n",
      "10 * 2 = 20\n",
      "10 * 3 = 30\n",
      "10 * 4 = 40\n",
      "10 * 5 = 50\n",
      "10 * 6 = 60\n",
      "10 * 7 = 70\n",
      "10 * 8 = 80\n",
      "10 * 9 = 90\n",
      "10 * 10 = 100\n"
     ]
    }
   ],
   "source": [
    "#12. Write a program to print a multiplication table\n",
    "num = int(input(\"Enter the number\"))\n",
    "for i in range(1,11):\n",
    "    print(f\"{num} * {i} = {num*i}\")"
   ]
  },
  {
   "cell_type": "code",
   "execution_count": null,
   "metadata": {},
   "outputs": [
    {
     "name": "stdout",
     "output_type": "stream",
     "text": [
      "The ASCII value of V is 86\n"
     ]
    }
   ],
   "source": [
    "#13. Write a python program to find the ASCII value of a character\n",
    "# ASCII, or American Standard Code for Information Interchange, is a character encoding standard that uses numeric values to represent characters. Each ASCII character is\n",
    "# assigned a unique 7-bit or 8-bit binary number, allowing computers to exchange information and display text in a consistent way. The ASCII values range from 0 to 127 (for 7-bit ASCII)\n",
    "# or 0 to 255 (for 8-bit ASCII), with each value corresponding to a specific character, such as\n",
    "# letters, digits, punctuation marks, and control characters.\n",
    "\n",
    "char = str(input(\"Enter the character\"))\n",
    "print(\"The ASCII value of \" + char + \" is\", ord(char)) # check order"
   ]
  },
  {
   "cell_type": "code",
   "execution_count": null,
   "metadata": {},
   "outputs": [
    {
     "name": "stdout",
     "output_type": "stream",
     "text": [
      "Entered number is 2\n",
      "2, is a prime number\n"
     ]
    }
   ],
   "source": [
    "#14. Write a Python Program to Check Prime Number.\n",
    "# A prime number is a whole number that cannot be evenly divided by any other number except for 1 and itself. For example, 2, 3, 5, 7, 11, and 13\n",
    "# are prime numbers because they cannot be divided by any other positive integer except for 1 and their own value.\n",
    "\n",
    "num = int(input(\"Enter a number: \"))\n",
    "print(f\"Entered number is {num}\")\n",
    "#define a flag variable\n",
    "flag = False\n",
    "if num == 1:\n",
    "    print(f\"{num}, is not a prime number\")\n",
    "elif num >1:\n",
    "    #check for factors\n",
    "    for i in range(2, num):\n",
    "        if(num % i) == 0:\n",
    "            flag = True # set flag to true if factor is found \n",
    "            break\n",
    "    #Check if flag is true\n",
    "if flag:\n",
    "    print(f\"{num}, is not a prime number\")\n",
    "else:\n",
    "    print(f\"{num}, is a prime number\")\n",
    "\n"
   ]
  },
  {
   "cell_type": "code",
   "execution_count": 1,
   "metadata": {},
   "outputs": [
    {
     "name": "stdout",
     "output_type": "stream",
     "text": [
      "The factorial of 5 is: 120\n"
     ]
    }
   ],
   "source": [
    "#15. Write a program to find the factorial of a number.\n",
    "num = int(input(\"Enter a number: \"))\n",
    "factorial = 1\n",
    "if num < 0:\n",
    "    print(\"Factorial does not exist for negative numbers.\")\n",
    "elif num == 0:\n",
    "    print(\"Factorial of 0 is 1.\")\n",
    "else:\n",
    "    for i in range(1, num + 1):\n",
    "        factorial *= i #to check the factorial\n",
    "    print(f\"The factorial of {num} is: {factorial}\") \n"
   ]
  },
  {
   "cell_type": "code",
   "execution_count": null,
   "metadata": {},
   "outputs": [
    {
     "name": "stdout",
     "output_type": "stream",
     "text": [
      "Factorial of 7 is 5040\n"
     ]
    }
   ],
   "source": [
    "#16. Write a Python program to find factorial of a number using recursion.\n",
    "num = int(input(\"Enter the number: \"))\n",
    "\n",
    "def rec_fac(n): #making a function for factorial\n",
    "    if n == 1:\n",
    "        return n\n",
    "    else:\n",
    "        return n * rec_fac(n-1)\n",
    "    \n",
    "#Check if number is neagtive:\n",
    "if num < 0:\n",
    "    print(\"Enter a positive number\")\n",
    "elif num == 0:\n",
    "    print(\"Factorial of 0 is 1\")\n",
    "else:\n",
    "    print(\"Factorial of\", num, \"is\", rec_fac(num))"
   ]
  },
  {
   "cell_type": "code",
   "execution_count": null,
   "metadata": {},
   "outputs": [
    {
     "name": "stdout",
     "output_type": "stream",
     "text": [
      "2016, A leap Year\n"
     ]
    }
   ],
   "source": [
    "#17. Write a program to check Leap Year\n",
    "year = int(input(\"Enter the year:\"))\n",
    "if(year %400 == 0) and (year %100 == 0):\n",
    "    print(f\"{year}, A leap Year\")\n",
    "elif (year % 4 == 0) and (year %100 != 0):\n",
    "    print(f\"{year}, A leap Year\")\n",
    "else:\n",
    "    print(f\"{year}, Not a leap year\")\n",
    "\n"
   ]
  },
  {
   "cell_type": "code",
   "execution_count": null,
   "metadata": {},
   "outputs": [
    {
     "name": "stdout",
     "output_type": "stream",
     "text": [
      "Sum of natural number upto 20 is: 210\n"
     ]
    }
   ],
   "source": [
    "#18. Write a Python Program to find the sum of natural number \n",
    "num = int(input(\"Enter the number\"))\n",
    "sum = 0 \n",
    "\n",
    "for i in range(1, num+1):\n",
    "    sum += i\n",
    "\n",
    "print(\"Sum of natural number upto\", num, \"is:\", sum)"
   ]
  },
  {
   "cell_type": "code",
   "execution_count": null,
   "metadata": {},
   "outputs": [
    {
     "name": "stdout",
     "output_type": "stream",
     "text": [
      "2\n",
      "3\n",
      "5\n",
      "7\n"
     ]
    }
   ],
   "source": [
    "#19. Write a python program to print all prime numbers in an interval of 1-10\n",
    "for num in range(1,11):\n",
    "    if num >1: # Prime numbers are greater than 1:\n",
    "        for i in range(2,num):\n",
    "            if(num % i) == 0:\n",
    "                break\n",
    "        else:\n",
    "            print(num)"
   ]
  },
  {
   "cell_type": "code",
   "execution_count": null,
   "metadata": {},
   "outputs": [
    {
     "name": "stdout",
     "output_type": "stream",
     "text": [
      "Select options\n",
      "1: Addition\n",
      "2: Subtraction\n",
      "3: Multiplication\n",
      "4: Division\n",
      "10.0 10.0 20.0\n",
      "Invalid Input\n",
      "Invalid Input\n",
      "30.0 20.0 10.0\n",
      "20.0 20.0 400.0\n",
      "Invalid Input\n",
      "100.0 5.0 20.0\n"
     ]
    }
   ],
   "source": [
    "#20. Write a Python program to make a simple calculator with 4 basic mathematical operations.\n",
    "#making Cases:\n",
    "print(\"Select options\")\n",
    "print(\"1: Addition\")\n",
    "print(\"2: Subtraction\")\n",
    "print(\"3: Multiplication\")\n",
    "print(\"4: Division\")\n",
    "\n",
    "#Now making functions for each cases:\n",
    "#For addition\n",
    "def add(x,y):\n",
    "    return x + y\n",
    "\n",
    "#For subtraction\n",
    "def subtract(x,y):\n",
    "   return x - y\n",
    "\n",
    "#For multiplication\n",
    "def multiply(x,y):\n",
    "    return x * y\n",
    "\n",
    "#For division\n",
    "def divide(x,y):\n",
    "    if y == 0: #Checking if y is zero\n",
    "        return \"Error! Division by zero is not allowed.\"\n",
    "    return x / y\n",
    "\n",
    "while True:\n",
    "    # Taking input from the user\n",
    "    choice = int(input(\"Enter your choice from 1 - 4\"))\n",
    "\n",
    "    #Checking choice if it is 1,2,3,4\n",
    "    if choice in (1,2,3,4):\n",
    "        try:\n",
    "            num1 = float(input(\"Enter first number: \"))\n",
    "            num2 = float(input(\"Enter second number: \"))\n",
    "        except ValueError:\n",
    "            print(\"Invalid input. Please enter a number.\")\n",
    "            continue \n",
    "\n",
    "        if choice == 1:\n",
    "            print(num1, num2, add(num1, num2))\n",
    "        \n",
    "        elif choice == 2:\n",
    "            print(num1, num2, subtract(num1, num2))\n",
    "\n",
    "        elif choice == 3:\n",
    "            print(num1, num2, multiply(num1, num2))\n",
    "\n",
    "        elif choice == 4:\n",
    "            print(num1, num2, divide(num1, num2))\n",
    "\n",
    "        nextCalculation = input(\"Do you want to continue? (yes/no): \") #Check if user wants to continue or not\n",
    "        if nextCalculation == \"no\":\n",
    "            break \n",
    "    else:\n",
    "        print(\"Invalid Input\")\n",
    "\n",
    "\n",
    "\n",
    "\n",
    "\n",
    "\n",
    "\n"
   ]
  },
  {
   "cell_type": "code",
   "execution_count": null,
   "metadata": {},
   "outputs": [
    {
     "name": "stdout",
     "output_type": "stream",
     "text": [
      "Decimal value of 10 is:\n",
      "0b1010 in binary\n",
      "0o12 in octal\n",
      "0xa in hexadecimal\n"
     ]
    }
   ],
   "source": [
    "#21. Write a program to convert decimal to binary, octal and hexadecimal.\n",
    "dec_num = int(input(\"Enter a decimal number: \"))\n",
    "print(\"Decimal value of\", dec_num, \"is:\")\n",
    "print(bin(dec_num), \"in binary\") #For binary\n",
    "print(oct(dec_num), \"in octal\") #For octal\n",
    "print(hex(dec_num), \"in hexadecimal\") #For hexadecimal"
   ]
  },
  {
   "cell_type": "code",
   "execution_count": null,
   "metadata": {},
   "outputs": [
    {
     "name": "stdout",
     "output_type": "stream",
     "text": [
      "Sum of list is: 15\n"
     ]
    }
   ],
   "source": [
    "#22. Write a python program to find the sum of an array(list)\n",
    "my_arr = [1,2,3,4,5]\n",
    "x = sum(my_arr)\n",
    "print(\"Sum of list is:\", x)"
   ]
  },
  {
   "cell_type": "code",
   "execution_count": null,
   "metadata": {},
   "outputs": [
    {
     "name": "stdout",
     "output_type": "stream",
     "text": [
      "An Armstrong number: 153\n"
     ]
    }
   ],
   "source": [
    "#23. Write a python program to print an Armstrong number. An Armstrong number is a number that is equal to the sum of cubes of its digits.\n",
    "num = int(input(\"Enter a number: \"))\n",
    "power = len(str(num))\n",
    "\n",
    "sum_of_digits = 0\n",
    "temp = num\n",
    "\n",
    "while temp > 0:\n",
    "    digit = temp % 10 # Extract last digit\n",
    "    sum_of_digits += digit ** power  # Raise digit to power and add to sum\n",
    "    temp //=10  # Remove last digit\n",
    "\n",
    "if num == sum_of_digits:\n",
    "    print(\"An Armstrong number:\", num)\n",
    "else:\n",
    "    print(\"Not an Armstrong number:\", num)\n"
   ]
  },
  {
   "cell_type": "code",
   "execution_count": null,
   "metadata": {},
   "outputs": [
    {
     "name": "stdout",
     "output_type": "stream",
     "text": [
      "1\n",
      "2\n",
      "3\n",
      "4\n",
      "5\n",
      "6\n",
      "7\n",
      "8\n",
      "9\n",
      "153\n",
      "370\n",
      "371\n",
      "407\n"
     ]
    }
   ],
   "source": [
    "#24. Write a python program to print an Armstrong number in a given interval.\n",
    "lower = int(input(\"Enter lower limit: \"))\n",
    "upper = int(input(\"Enter upper limit: \"))\n",
    "\n",
    "for num in range(lower, upper + 1):\n",
    "    check = len(str(num))  # Checking the length of the number\n",
    "    temp_num = num\n",
    "    armstrong_sum = 0  # Renamed variable to avoid conflict with built-in sum()\n",
    "\n",
    "    while temp_num > 0:\n",
    "        digit = temp_num % 10  # Extract last digit\n",
    "        armstrong_sum += digit ** check  # Raise digit to power and add to sum\n",
    "        temp_num //= 10  # Remove last digit\n",
    "\n",
    "    # Check if num is an Armstrong number\n",
    "    if num == armstrong_sum:\n",
    "        print(num)\n",
    "\n",
    "\n"
   ]
  },
  {
   "cell_type": "code",
   "execution_count": null,
   "metadata": {},
   "outputs": [
    {
     "name": "stdout",
     "output_type": "stream",
     "text": [
      "Fibonacci Sequence:\n",
      "0\n",
      "1\n",
      "1\n",
      "2\n",
      "3\n",
      "5\n",
      "8\n",
      "13\n",
      "21\n",
      "34\n"
     ]
    }
   ],
   "source": [
    "#25. Write a python program to print the fibonacci sequence.\n",
    "n = int(input(\"Enter the number of terms: \"))\n",
    "#First two terms.\n",
    "n1, n2 = 0, 1\n",
    "count = 0\n",
    "#check if n is valid or not \n",
    "if n <= 0:\n",
    "    print(\"Enter a positive integer\")\n",
    "elif n == 1:\n",
    "    print(\"Fibonacci sequence upto:\", n)\n",
    "    print(n1)\n",
    "#generate fibonnaci sequence\n",
    "else:\n",
    "    print(\"Fibonacci Sequence:\")\n",
    "    while count < n:\n",
    "        print(n1)\n",
    "        nth = n1 + n2\n",
    "        # Update values\n",
    "        n1 = n2\n",
    "        n2 = nth\n",
    "        count += 1\n",
    "\n",
    "\n"
   ]
  },
  {
   "cell_type": "code",
   "execution_count": null,
   "metadata": {},
   "outputs": [
    {
     "name": "stdout",
     "output_type": "stream",
     "text": [
      "Entered number is 8\n",
      "Fibonacci Sequence\n",
      "0\n",
      "1\n",
      "1\n",
      "2\n",
      "3\n",
      "5\n",
      "8\n",
      "13\n"
     ]
    }
   ],
   "source": [
    "#26. Write a Python program to display fibonacci sequences using recursion.\n",
    "n_terms = int(input(\"Enter number of terms greater than 0: \"))\n",
    "print(\"Entered number is\", n_terms)\n",
    "\n",
    "def rec_fun(n): #Function for recursion \n",
    "    if n<=1:\n",
    "        return n\n",
    "    else:\n",
    "        return (rec_fun(n-1) + rec_fun(n-2))\n",
    "\n",
    "#Check if the number of terms is valid or not:\n",
    "if n_terms <= 0:\n",
    "    print(\"Enter a positive integer\")\n",
    "else:\n",
    "    print(\"Fibonacci Sequence\")\n",
    "    for i in range(n_terms):\n",
    "        print(rec_fun(i))"
   ]
  },
  {
   "cell_type": "code",
   "execution_count": null,
   "metadata": {},
   "outputs": [
    {
     "name": "stdout",
     "output_type": "stream",
     "text": [
      "First number 52\n",
      "Second number 24\n",
      "The LCM is: 312\n"
     ]
    }
   ],
   "source": [
    "#27. Write a Python program to find LCM of two numbers.\n",
    "num1 = int(input(\"Enter first number\"))\n",
    "print(\"First number\", num1)\n",
    "num2 = int(input(\"Enter second number\")) \n",
    "print(\"Second number\", num2)\n",
    "\n",
    "def check_lcm(x,y): #Function for checking LCM\n",
    "    if x >y:\n",
    "        greater = x\n",
    "    else:\n",
    "        greater = y\n",
    "    while(True): #main condition\n",
    "        if((greater % x == 0) and (greater % y == 0)):\n",
    "            lcm = greater\n",
    "            break\n",
    "        greater += 1\n",
    "    return lcm\n",
    "\n",
    "print(\"The LCM is:\", check_lcm(num1,num2))"
   ]
  },
  {
   "cell_type": "code",
   "execution_count": null,
   "metadata": {},
   "outputs": [
    {
     "name": "stdout",
     "output_type": "stream",
     "text": [
      "First number 54\n",
      "Second number 24\n",
      "HCF of numbers are: 6\n"
     ]
    }
   ],
   "source": [
    "#28. Write a Python program to find HCF of two numbers.\n",
    "#define a function\n",
    "num1 = int(input(\"Enter first number: \"))\n",
    "print(\"First number\", num1)\n",
    "num2 = int(input(\"Enter two number: \"))\n",
    "print(\"Second number\", num2)\n",
    "\n",
    "def check_hcf(x,y): # making a function\n",
    "    #choose smaller number\n",
    "    if x > y:\n",
    "        smaller = y\n",
    "    else:\n",
    "        smaller = x\n",
    "    for i in range(1, smaller+1):\n",
    "        if ((x % i == 0) and (y % i == 0)):\n",
    "            hcf = i\n",
    "    return hcf \n",
    "\n",
    "print(\"HCF of numbers are:\", check_hcf(num1, num2))"
   ]
  },
  {
   "cell_type": "code",
   "execution_count": null,
   "metadata": {},
   "outputs": [
    {
     "name": "stdout",
     "output_type": "stream",
     "text": [
      "Entered number is: 1.4\n",
      "The natural logarithm of 1.4 is 0.3364722366212129\n"
     ]
    }
   ],
   "source": [
    "#29. Write a Python program to calculate the natural logarithm of a given number.\n",
    "import math #importing library for logarithm function\n",
    "\n",
    "num = float(input(\"Enter any number\"))\n",
    "print(\"Entered number is:\", num)\n",
    "if num <= 0:\n",
    "    print(\"Enter a positive number\")\n",
    "else:\n",
    "    #Calculate the natural logarithm (base e) of the number\n",
    "    res = math.log(num)# checking the logarithm of the number\n",
    "    print(\"The natural logarithm of\", num, \"is\", res)"
   ]
  },
  {
   "cell_type": "code",
   "execution_count": null,
   "metadata": {},
   "outputs": [
    {
     "name": "stdout",
     "output_type": "stream",
     "text": [
      "The cube sum of first 7 natural number is: {784}\n"
     ]
    }
   ],
   "source": [
    "#30. Write a Python program to find sum of cube of first n natural numbers\n",
    "n = int(input(\"Enter any number\"))\n",
    "\n",
    "def cube_sum(n):\n",
    "    if n <= 0 :\n",
    "        return 0\n",
    "    else:\n",
    "        total = sum([i**3 for i in range(1, n+1)])\n",
    "        return total\n",
    "\n",
    "if n <=0:\n",
    "    print(\"Enter a positive integer greater than 0\")\n",
    "else:\n",
    "    res = cube_sum(n)\n",
    "    print(f\"The cube sum of first {n} natural number is:\", {res}) "
   ]
  },
  {
   "cell_type": "code",
   "execution_count": null,
   "metadata": {},
   "outputs": [
    {
     "name": "stdout",
     "output_type": "stream",
     "text": [
      "Largest element in array is: 50\n"
     ]
    }
   ],
   "source": [
    "#31. Write a Python program to find the largest element in an array.\n",
    "def larg_arr(arr):\n",
    "    if not arr:\n",
    "        return \"Array is empty\"\n",
    "    larg_elem = arr[0]\n",
    "\n",
    "    for element in arr: #Iterate through the array to find the largest element\n",
    "        if element > larg_elem:\n",
    "            larg_elem = element\n",
    "    return larg_elem\n",
    "\n",
    "test_arr = [10,20,30,40,50]\n",
    "res = larg_arr(test_arr)\n",
    "print(f\"Largest element in array is: {res}\")\n"
   ]
  },
  {
   "cell_type": "code",
   "execution_count": null,
   "metadata": {},
   "outputs": [
    {
     "name": "stderr",
     "output_type": "stream",
     "text": [
      "<>:2: SyntaxWarning: invalid escape sequence '\\,'\n",
      "<>:2: SyntaxWarning: invalid escape sequence '\\,'\n",
      "C:\\Users\\HP\\AppData\\Local\\Temp\\ipykernel_18084\\1779024338.py:2: SyntaxWarning: invalid escape sequence '\\,'\n",
      "  punctuations = '''!()-[]{};:'\"\\,<>./?@#$%^&*_~'''\n"
     ]
    },
    {
     "name": "stdout",
     "output_type": "stream",
     "text": [
      "Eat Sleep Code  Repeat\n"
     ]
    }
   ],
   "source": [
    "#32. Write a Python program to remove punctuations to a given string.\n",
    "my_str = input(\"Enter a string..\")\n",
    "\n",
    "punctuations = '''!()-[]{};:'\"\\,<>./?@#$%^&*_~'''\n",
    "\n",
    "#Remove punctuations from the string\n",
    "no_punc = \"\"\n",
    "for char in my_str:\n",
    "    if char not in punctuations:\n",
    "        no_punc = no_punc + char\n",
    "\n",
    "print(no_punc)\n"
   ]
  },
  {
   "cell_type": "code",
   "execution_count": null,
   "metadata": {},
   "outputs": [
    {
     "name": "stdout",
     "output_type": "stream",
     "text": [
      "Arr 1 is monotonic True\n",
      "Arr 2 is monotonic True\n",
      "Arr 3 is monotonic False\n"
     ]
    }
   ],
   "source": [
    "#33. Write a Python program to check if a given array is Monotonic or not.\n",
    "# A monotonic array is an array that is entirely non-increasing or non-decreasing.\n",
    "def is_monotonic(arr):\n",
    "    increasing = decreasing = True\n",
    "\n",
    "    for i in range(1, len(arr)):\n",
    "        if arr[i] > arr[i - 1]:\n",
    "            decreasing = False\n",
    "        elif arr[i]< arr[i-1]:\n",
    "            increasing = False\n",
    "\n",
    "    return increasing or decreasing\n",
    "\n",
    "#Testing the function\n",
    "arr1 = [1,2,2,3] #Monotonic non-decreasing\n",
    "arr2 = [3,2,1] #Monotonic non-increasing\n",
    "arr3 = [1,3,2,4] #Not Monotonic\n",
    "\n",
    "print(\"Arr 1 is monotonic\", is_monotonic(arr1))\n",
    "print(\"Arr 2 is monotonic\", is_monotonic(arr2))\n",
    "print(\"Arr 3 is monotonic\", is_monotonic(arr3))\n"
   ]
  },
  {
   "cell_type": "code",
   "execution_count": 7,
   "metadata": {},
   "outputs": [
    {
     "name": "stdout",
     "output_type": "stream",
     "text": [
      "Sorted words Adam David Jack John\n"
     ]
    }
   ],
   "source": [
    "#34. Write a Python program to sort words in Alphabetic Order.\n",
    "words = input(\"Enter words seperated by space: \").split()\n",
    "\n",
    "#Now to sort them\n",
    "words.sort()\n",
    "print(\"Sorted words\", \" \".join(words))"
   ]
  },
  {
   "cell_type": "code",
   "execution_count": null,
   "metadata": {},
   "outputs": [
    {
     "name": "stdout",
     "output_type": "stream",
     "text": [
      "Welcome to body mass index calculator\n",
      "Your BMI is: 24.69\n",
      "You're weight is normal\n"
     ]
    }
   ],
   "source": [
    "#35. Write a Python program to calculate the body max index.\n",
    "def bodymassindex(height, weight): #making a function\n",
    "    return round((weight/height**2),2)\n",
    "\n",
    "h = float(input(\"Enter height in meters: \"))\n",
    "w = float(input(\"Enter weight in kg: \"))\n",
    "\n",
    "print(\"Welcome to Body Mass Index Calculator\")\n",
    "\n",
    "bmi = bodymassindex(h,w)\n",
    "print(\"Your BMI is:\", bmi)\n",
    "\n",
    "if bmi <= 18.5: #Checking conditions here\n",
    "    print(\"You're underweight\")\n",
    "elif bmi <= 25:\n",
    "    print(\"You're weight is normal\")\n",
    "elif bmi <= 30:\n",
    "    print(\"You're overweight\")\n",
    "else:\n",
    "    print(\"You're obese\")"
   ]
  },
  {
   "cell_type": "code",
   "execution_count": 1,
   "metadata": {},
   "outputs": [
    {
     "name": "stdout",
     "output_type": "stream",
     "text": [
      "18 A Harshad number\n"
     ]
    }
   ],
   "source": [
    "#36. Write a Python program to determine whether the given number is a Harshad number or not.\n",
    "num = int(input(\"Enter a number\"))\n",
    "\n",
    "def is_harshad(n):\n",
    "    #Calculate the sum of the digits of the number\n",
    "    digit_sum = sum(int(digit) for digit in str(n))\n",
    "    #Check if number is divisble by sum of digits\n",
    "    return num % digit_sum == 0\n",
    "\n",
    "\n",
    "#Check if it's a Harshad Number\n",
    "if is_harshad(num):\n",
    "    print(num,\"A Harshad number\")\n",
    "else:\n",
    "    print(num, \"Not a Harshad number\")"
   ]
  },
  {
   "cell_type": "code",
   "execution_count": 2,
   "metadata": {},
   "outputs": [
    {
     "name": "stdout",
     "output_type": "stream",
     "text": [
      "[10, 20, 30, 40, 50]\n",
      "Sum of numbers in the list are: 150\n"
     ]
    }
   ],
   "source": [
    "#37. Write a program to find the sum of elements in a list.\n",
    "numbers = [10,20,30,40,50] #a demo list\n",
    "print(numbers)\n",
    "\n",
    "sum_no = 0 #variable to store sum\n",
    "\n",
    "for i in numbers: #Iterarte through the list and accumlate the sum\n",
    "    sum_no += i\n",
    "\n",
    "print(\"Sum of numbers in the list are:\", sum_no) #Print the sum"
   ]
  },
  {
   "cell_type": "code",
   "execution_count": 3,
   "metadata": {},
   "outputs": [
    {
     "name": "stdout",
     "output_type": "stream",
     "text": [
      "[1, 2, 3, 4, 5]\n",
      "Product of the elements in the list: 120\n"
     ]
    }
   ],
   "source": [
    "#38. Write a program to multiply all the numbers in a list.\n",
    "numbers = [1,2,3,4,5]\n",
    "print(numbers)\n",
    "\n",
    "mul_no = 1 #value one so through it would multiply the elements and save it\n",
    "\n",
    "for i in numbers:\n",
    "    mul_no *= i\n",
    "\n",
    "print(\"Product of the elements in the list:\", mul_no) #Print the product\n"
   ]
  },
  {
   "cell_type": "code",
   "execution_count": null,
   "metadata": {},
   "outputs": [
    {
     "name": "stdout",
     "output_type": "stream",
     "text": [
      "[10, 20, -30, -20, 15, 25, 45]\n",
      "Smallest number in the list is: -30\n"
     ]
    }
   ],
   "source": [
    "#39. Write a Pyhton program to find the smallest number in a list\n",
    "numbers = [10,20, -30, -20, 15, 25, 45]\n",
    "print(numbers)\n",
    "\n",
    "small_no = numbers[0] #Variable to store minimum value, initially set to 0\n",
    "\n",
    "for i in numbers:\n",
    "    if i <small_no:\n",
    "        small_no = i\n",
    "\n",
    "print(\"Smallest number in the list is:\", small_no)\n",
    "\n",
    "\n"
   ]
  },
  {
   "cell_type": "code",
   "execution_count": null,
   "metadata": {},
   "outputs": [
    {
     "name": "stdout",
     "output_type": "stream",
     "text": [
      "[10, 20, -30, -40, 50, 80, 40, 90]\n",
      "Largest number in the list is: 90\n"
     ]
    }
   ],
   "source": [
    "#40. Write a Python program to find the largest number in a list\n",
    "numbers = [10,20, -30, -40, 50, 80, 40, 90]\n",
    "print(numbers)\n",
    "\n",
    "largest_no = numbers[0] #Variable to store maximum value, initially set to 0\n",
    "\n",
    "for i in numbers:\n",
    "    if i > largest_no:\n",
    "        largest_no = i\n",
    "\n",
    "print(\"Largest number in the list is:\", largest_no)"
   ]
  },
  {
   "cell_type": "code",
   "execution_count": 9,
   "metadata": {},
   "outputs": [
    {
     "name": "stdout",
     "output_type": "stream",
     "text": [
      "[10, 15, 5, 2, 20, 25, 42, 40, 50]\n",
      "Arranging them in descending order [50, 42, 40, 25, 20, 15, 10, 5, 2]\n",
      "Second largest number in the list is: 42\n"
     ]
    }
   ],
   "source": [
    "#41. Write a Python program to find the second largest number in a list\n",
    "numbers = [10, 15, 5, 2, 20, 25, 42, 40, 50]\n",
    "print(numbers)\n",
    "numbers.sort(reverse=True)\n",
    "print(\"Arranging them in descending order\", numbers)\n",
    "\n",
    "numbers.sort(reverse=True) #Sort the list in descending order\n",
    "\n",
    "if len(numbers) > 2:\n",
    "    sec_larg = numbers[1]\n",
    "    print(\"Second largest number in the list is:\", sec_larg)\n",
    "else:\n",
    "    print(\"The list does'nt contain second element\")"
   ]
  },
  {
   "cell_type": "code",
   "execution_count": null,
   "metadata": {},
   "outputs": [
    {
     "name": "stdout",
     "output_type": "stream",
     "text": [
      "[1, 2, 5, 10, 15, 20, 25, 30, 35, 40]\n",
      "Even numbers in the list are [2, 10, 20, 30, 40]\n"
     ]
    }
   ],
   "source": [
    "#42. Write a Python program to print all the even numbers in a list\n",
    "numbers = [1, 2, 5, 10, 15, 20, 25, 30, 35, 40]\n",
    "print(numbers)\n",
    "\n",
    "# for num in numbers:\n",
    "#     if num % 2 == 0:\n",
    "#         print(\"Even numbers in the list are\", num)\n",
    "\n",
    "#Another approach\n",
    "even_no = [num for num in numbers if num % 2 == 0] # A simple code\n",
    "\n",
    "print(\"Even numbers in the list are\", even_no)\n"
   ]
  },
  {
   "cell_type": "code",
   "execution_count": 7,
   "metadata": {},
   "outputs": [
    {
     "name": "stdout",
     "output_type": "stream",
     "text": [
      "[1, 3, 9, 12, 18, 21, 27, 30, 32, 35]\n",
      "Odd numbers in the list are [1, 3, 9, 21, 27, 35]\n"
     ]
    }
   ],
   "source": [
    "#43. Write a Python program to print all the odd numbers in a list\n",
    "numbers = [1, 3, 9, 12, 18, 21, 27, 30 , 32, 35]\n",
    "print(numbers)\n",
    "\n",
    "# for num in numbers:\n",
    "#     if num %2 != 0:\n",
    "#         print(\"Odd numbers in the list are\", num)\n",
    "\n",
    "#Another approach\n",
    "odd_no = [num for num in numbers if num % 2 != 0]\n",
    "print(\"Odd numbers in the list are\", odd_no)"
   ]
  },
  {
   "cell_type": "code",
   "execution_count": 11,
   "metadata": {},
   "outputs": [
    {
     "name": "stdout",
     "output_type": "stream",
     "text": [
      "[1, 2, [], 10, 15, [], 25, 32, []]\n",
      "List after removing empty list:  [1, 2, 10, 15, 25, 32]\n"
     ]
    }
   ],
   "source": [
    "#44. Write a Python program to remove empty list from a given list\n",
    "numbers = [1, 2, [], 10, 15, [], 25, 32, []]\n",
    "print(numbers)\n",
    "\n",
    "# for empty in numbers:\n",
    "#     if empty == []:\n",
    "#         numbers.remove(empty)\n",
    "#         print(numbers)\n",
    "\n",
    "#Another approach\n",
    "empy_li = [i for i in numbers if i != []]\n",
    "print(\"List after removing empty list: \", empy_li)"
   ]
  },
  {
   "cell_type": "code",
   "execution_count": null,
   "metadata": {},
   "outputs": [
    {
     "name": "stdout",
     "output_type": "stream",
     "text": [
      "[1, 2, 3, 4, 5]\n"
     ]
    }
   ],
   "source": [
    "#45. Write a Python program to clone or copy a list.\n",
    "original_list = [1, 2, 3, 4, 5]\n",
    "cloned_list= original_list.copy()\n",
    "print(cloned_list)  # Output: [1, 2, 3, 4, 5]"
   ]
  },
  {
   "cell_type": "code",
   "execution_count": null,
   "metadata": {},
   "outputs": [
    {
     "name": "stdout",
     "output_type": "stream",
     "text": [
      "[1, 2, 3, 4, 5]\n"
     ]
    }
   ],
   "source": [
    "#OR Using list() constructor \n",
    "original_list = [1, 2, 3, 4, 5]\n",
    "new_list = list(original_list)\n",
    "print(new_list)"
   ]
  },
  {
   "cell_type": "code",
   "execution_count": 7,
   "metadata": {},
   "outputs": [
    {
     "name": "stdout",
     "output_type": "stream",
     "text": [
      "The element 10 occurs 2 times in the list\n"
     ]
    }
   ],
   "source": [
    "#46. Write a Pyhton Program to count occurence of an element in the list\n",
    "my_list = [1, 2, 3, 4, 5, 10, 20, 10, 18]\n",
    "elem_to_count = 10\n",
    "\n",
    "count = my_list.count(elem_to_count)\n",
    "\n",
    "print(f\"The element {elem_to_count} occurs {count} times in the list\")\n"
   ]
  },
  {
   "cell_type": "code",
   "execution_count": null,
   "metadata": {},
   "outputs": [
    {
     "name": "stdout",
     "output_type": "stream",
     "text": [
      "Original String:  Data Science is a field I like so much\n",
      "String after splitting:  ['Data', 'Science', 'is', 'a', 'field', 'I', 'like', 'so', 'much']\n",
      "Joined string Data  Science  is  a  field  I  like  so  much\n"
     ]
    }
   ],
   "source": [
    "#47. Write a Python program to split and join a string\n",
    "input_str = \"Data Science is a field I like so much\"\n",
    "print(\"Original String: \", input_str)\n",
    "split_str = input_str.split()\n",
    "print(\"String after splitting: \", split_str)\n",
    "\n",
    "separator = \"  \" #For spaces between the words \n",
    "joined_str = separator.join(split_str) #Joining the words with spaces between them\n",
    "print(\"Joined string\", joined_str)"
   ]
  },
  {
   "cell_type": "code",
   "execution_count": null,
   "metadata": {},
   "outputs": [
    {
     "name": "stdout",
     "output_type": "stream",
     "text": [
      "101010 is a binary string\n",
      "12345 is not a binary string\n",
      "000111 is a binary string\n",
      "0101010 is a binary string\n",
      "10201 is not a binary string\n"
     ]
    }
   ],
   "source": [
    "#48. Write a Python program to check if a given string is binary string or not\n",
    "input_str = [\"101010\", \"12345\", \"000111\", \"0101010\", \"10201\"]\n",
    "\n",
    "def binary_string(s):\n",
    "    return all(char in \"01\" for char in s) #checking for 0 and 1 in the string\n",
    "\n",
    "for s in input_str:\n",
    "    if binary_string(s):\n",
    "        print(f\"{s} is a binary string\")\n",
    "    else:\n",
    "        print(f\"{s} is not a binary string\")"
   ]
  },
  {
   "cell_type": "code",
   "execution_count": null,
   "metadata": {},
   "outputs": [
    {
     "name": "stdout",
     "output_type": "stream",
     "text": [
      "['101011'] is not a binary string\n"
     ]
    }
   ],
   "source": [
    "#Another approach for a single input\n",
    "def is_binary(input_str):\n",
    "    for i in input_str:\n",
    "        if i not in \"01\":\n",
    "            return False\n",
    "    return True\n",
    "\n",
    "input_str = [\"101011\"] # a single input\n",
    "\n",
    "if is_binary(input_str):\n",
    "    print(f\"{input_str} is a binary string\")\n",
    "else:\n",
    "    print(f\"{input_str} is not a binary string\")"
   ]
  },
  {
   "cell_type": "code",
   "execution_count": null,
   "metadata": {},
   "outputs": [
    {
     "name": "stdout",
     "output_type": "stream",
     "text": [
      "Uncommon words between the two strings are:  {'first', 'second'}\n"
     ]
    }
   ],
   "source": [
    "#49. Write a Python program to find the uncommon words from two strings.\n",
    "first_str = \"This is the first string\"\n",
    "sec_str = \"This is the second string\"\n",
    "\n",
    "# Convert the strings to sets of words\n",
    "set1 = set(first_str.split())\n",
    "set2 = set(sec_str.split())\n",
    "\n",
    "uncommon_words = set1.symmetric_difference(set2) #using symmetric difference to find the uncommon words\n",
    "print(\"Uncommon words between the two strings are: \", uncommon_words)\n"
   ]
  },
  {
   "cell_type": "code",
   "execution_count": null,
   "metadata": {},
   "outputs": [
    {
     "name": "stdout",
     "output_type": "stream",
     "text": [
      "Merged dictionaries are: {'a': 1, 'b': 2, 'c': 3, 'd': 4, 'e': 5, 'f': 6}\n"
     ]
    }
   ],
   "source": [
    "#50. Write a Python program to merge two dictionaries\n",
    "dict1 = {\"a\": 1, \"b\": 2, \"c\": 3}\n",
    "dict2 = {\"d\": 4, \"e\": 5, \"f\": 6}\n",
    "\n",
    "dict1.update(dict2) #using update() method to merge two dictionaries\n",
    "print(\"Merged dictionaries are:\", dict1)"
   ]
  },
  {
   "cell_type": "code",
   "execution_count": null,
   "metadata": {},
   "outputs": [],
   "source": []
  }
 ],
 "metadata": {
  "kernelspec": {
   "display_name": "base",
   "language": "python",
   "name": "python3"
  },
  "language_info": {
   "codemirror_mode": {
    "name": "ipython",
    "version": 3
   },
   "file_extension": ".py",
   "mimetype": "text/x-python",
   "name": "python",
   "nbconvert_exporter": "python",
   "pygments_lexer": "ipython3",
   "version": "3.12.3"
  }
 },
 "nbformat": 4,
 "nbformat_minor": 2
}
