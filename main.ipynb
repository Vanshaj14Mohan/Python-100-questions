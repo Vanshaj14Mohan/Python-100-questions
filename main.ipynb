{
 "cells": [
  {
   "cell_type": "markdown",
   "metadata": {},
   "source": [
    "## SO basically this whole file will contain 100 basic to advanced questions based on python programming"
   ]
  },
  {
   "cell_type": "code",
   "execution_count": 1,
   "metadata": {},
   "outputs": [
    {
     "name": "stdout",
     "output_type": "stream",
     "text": [
      "Helloworld\n"
     ]
    }
   ],
   "source": [
    "#1. Write a Python Program to print Helloworld\n",
    "print(\"Helloworld\")"
   ]
  },
  {
   "cell_type": "code",
   "execution_count": 3,
   "metadata": {},
   "outputs": [
    {
     "name": "stdout",
     "output_type": "stream",
     "text": [
      "Sum of num1 and num2 is 30.0\n",
      "Division of div1 and div2 is 5.0\n"
     ]
    }
   ],
   "source": [
    "#2. Write a program to do arithmetic operations addition and division\n",
    "num1 = float(input(\"Enter first number for addition\"))\n",
    "num2 = float(input(\"Enter second number for addition\"))\n",
    "sum = num1 + num2\n",
    "print(\"Sum of num1 and num2 is\", sum)\n",
    "\n",
    "# For divison\n",
    "dig1 = float(input(\"Enter first number for division\"))\n",
    "dig2 = float(input(\"Enter second number for division\"))\n",
    "div = dig1 / dig2\n",
    "print(\"Division of div1 and div2 is\", div)"
   ]
  },
  {
   "cell_type": "code",
   "execution_count": 1,
   "metadata": {},
   "outputs": [
    {
     "name": "stdout",
     "output_type": "stream",
     "text": [
      "Area of a triangle is 100.0\n"
     ]
    }
   ],
   "source": [
    "#3. Write a program to find the area of a triangle\n",
    "#Formula 1/2 * b * h\n",
    "base = float(input(\"Enter the base:\"))\n",
    "height = float(input(\"Enter the height:\"))\n",
    "area = 0.5* base * height\n",
    "print(f\"Area of a triangle is {area}\")"
   ]
  },
  {
   "cell_type": "code",
   "execution_count": null,
   "metadata": {},
   "outputs": [],
   "source": []
  }
 ],
 "metadata": {
  "kernelspec": {
   "display_name": "base",
   "language": "python",
   "name": "python3"
  },
  "language_info": {
   "codemirror_mode": {
    "name": "ipython",
    "version": 3
   },
   "file_extension": ".py",
   "mimetype": "text/x-python",
   "name": "python",
   "nbconvert_exporter": "python",
   "pygments_lexer": "ipython3",
   "version": "3.12.3"
  }
 },
 "nbformat": 4,
 "nbformat_minor": 2
}
